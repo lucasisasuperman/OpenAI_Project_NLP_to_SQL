{
 "cells": [
  {
   "cell_type": "markdown",
   "id": "93b5c4c8",
   "metadata": {},
   "source": [
    "# NLP to SQL Project\n",
    "\n",
    "In this project, we'll develop a start-up that can take a non-technical manager's Natural Language question, such as \"What counties had the top sales?\" and convert that into a SQL query. We will then use that SQL to query the data (which in this example will come from a .csv file we read in with Pandas and set-up a temporary DB in RAM) and then report back the results!\n",
    "\n",
    "## Imports"
   ]
  },
  {
   "cell_type": "code",
   "execution_count": 2,
   "id": "aef3c107-7b45-4bfe-97c4-b66de1ea6d0f",
   "metadata": {},
   "outputs": [],
   "source": [
    "# !pip install openai"
   ]
  },
  {
   "cell_type": "code",
   "execution_count": 3,
   "id": "be2c12ae",
   "metadata": {},
   "outputs": [],
   "source": [
    "import os\n",
    "import pandas as pd\n",
    "#pip install pandas"
   ]
  },
  {
   "cell_type": "markdown",
   "id": "2274bcc8",
   "metadata": {},
   "source": [
    "## Data\n",
    "\n",
    "\n",
    "Our data will be some example Sales Data from:  https://www.kaggle.com/datasets/kyanyoga/sample-sales-data\n",
    "\n",
    "Let's read it in:"
   ]
  },
  {
   "cell_type": "code",
   "execution_count": 4,
   "id": "773b2398",
   "metadata": {},
   "outputs": [],
   "source": [
    "df = pd.read_csv(\"sales_data_sample.csv\")\n",
    "#read sales data smaple file csv"
   ]
  },
  {
   "cell_type": "code",
   "execution_count": 5,
   "id": "9a0e77bc",
   "metadata": {},
   "outputs": [
    {
     "data": {
      "text/html": [
       "<div>\n",
       "<style scoped>\n",
       "    .dataframe tbody tr th:only-of-type {\n",
       "        vertical-align: middle;\n",
       "    }\n",
       "\n",
       "    .dataframe tbody tr th {\n",
       "        vertical-align: top;\n",
       "    }\n",
       "\n",
       "    .dataframe thead th {\n",
       "        text-align: right;\n",
       "    }\n",
       "</style>\n",
       "<table border=\"1\" class=\"dataframe\">\n",
       "  <thead>\n",
       "    <tr style=\"text-align: right;\">\n",
       "      <th></th>\n",
       "      <th>ORDERNUMBER</th>\n",
       "      <th>QUANTITYORDERED</th>\n",
       "      <th>PRICEEACH</th>\n",
       "      <th>ORDERLINENUMBER</th>\n",
       "      <th>SALES</th>\n",
       "      <th>ORDERDATE</th>\n",
       "      <th>STATUS</th>\n",
       "      <th>QTR_ID</th>\n",
       "      <th>MONTH_ID</th>\n",
       "      <th>YEAR_ID</th>\n",
       "      <th>...</th>\n",
       "      <th>ADDRESSLINE1</th>\n",
       "      <th>ADDRESSLINE2</th>\n",
       "      <th>CITY</th>\n",
       "      <th>STATE</th>\n",
       "      <th>POSTALCODE</th>\n",
       "      <th>COUNTRY</th>\n",
       "      <th>TERRITORY</th>\n",
       "      <th>CONTACTLASTNAME</th>\n",
       "      <th>CONTACTFIRSTNAME</th>\n",
       "      <th>DEALSIZE</th>\n",
       "    </tr>\n",
       "  </thead>\n",
       "  <tbody>\n",
       "    <tr>\n",
       "      <th>0</th>\n",
       "      <td>10107</td>\n",
       "      <td>30</td>\n",
       "      <td>95.70</td>\n",
       "      <td>2</td>\n",
       "      <td>2871.00</td>\n",
       "      <td>2/24/2003 0:00</td>\n",
       "      <td>Shipped</td>\n",
       "      <td>1</td>\n",
       "      <td>2</td>\n",
       "      <td>2003</td>\n",
       "      <td>...</td>\n",
       "      <td>897 Long Airport Avenue</td>\n",
       "      <td>NaN</td>\n",
       "      <td>NYC</td>\n",
       "      <td>NY</td>\n",
       "      <td>10022</td>\n",
       "      <td>USA</td>\n",
       "      <td>NaN</td>\n",
       "      <td>Yu</td>\n",
       "      <td>Kwai</td>\n",
       "      <td>Small</td>\n",
       "    </tr>\n",
       "    <tr>\n",
       "      <th>1</th>\n",
       "      <td>10121</td>\n",
       "      <td>34</td>\n",
       "      <td>81.35</td>\n",
       "      <td>5</td>\n",
       "      <td>2765.90</td>\n",
       "      <td>5/7/2003 0:00</td>\n",
       "      <td>Shipped</td>\n",
       "      <td>2</td>\n",
       "      <td>5</td>\n",
       "      <td>2003</td>\n",
       "      <td>...</td>\n",
       "      <td>59 rue de l'Abbaye</td>\n",
       "      <td>NaN</td>\n",
       "      <td>Reims</td>\n",
       "      <td>NaN</td>\n",
       "      <td>51100</td>\n",
       "      <td>France</td>\n",
       "      <td>EMEA</td>\n",
       "      <td>Henriot</td>\n",
       "      <td>Paul</td>\n",
       "      <td>Small</td>\n",
       "    </tr>\n",
       "    <tr>\n",
       "      <th>2</th>\n",
       "      <td>10134</td>\n",
       "      <td>41</td>\n",
       "      <td>94.74</td>\n",
       "      <td>2</td>\n",
       "      <td>3884.34</td>\n",
       "      <td>7/1/2003 0:00</td>\n",
       "      <td>Shipped</td>\n",
       "      <td>3</td>\n",
       "      <td>7</td>\n",
       "      <td>2003</td>\n",
       "      <td>...</td>\n",
       "      <td>27 rue du Colonel Pierre Avia</td>\n",
       "      <td>NaN</td>\n",
       "      <td>Paris</td>\n",
       "      <td>NaN</td>\n",
       "      <td>75508</td>\n",
       "      <td>France</td>\n",
       "      <td>EMEA</td>\n",
       "      <td>Da Cunha</td>\n",
       "      <td>Daniel</td>\n",
       "      <td>Medium</td>\n",
       "    </tr>\n",
       "    <tr>\n",
       "      <th>3</th>\n",
       "      <td>10145</td>\n",
       "      <td>45</td>\n",
       "      <td>83.26</td>\n",
       "      <td>6</td>\n",
       "      <td>3746.70</td>\n",
       "      <td>8/25/2003 0:00</td>\n",
       "      <td>Shipped</td>\n",
       "      <td>3</td>\n",
       "      <td>8</td>\n",
       "      <td>2003</td>\n",
       "      <td>...</td>\n",
       "      <td>78934 Hillside Dr.</td>\n",
       "      <td>NaN</td>\n",
       "      <td>Pasadena</td>\n",
       "      <td>CA</td>\n",
       "      <td>90003</td>\n",
       "      <td>USA</td>\n",
       "      <td>NaN</td>\n",
       "      <td>Young</td>\n",
       "      <td>Julie</td>\n",
       "      <td>Medium</td>\n",
       "    </tr>\n",
       "    <tr>\n",
       "      <th>4</th>\n",
       "      <td>10159</td>\n",
       "      <td>49</td>\n",
       "      <td>100.00</td>\n",
       "      <td>14</td>\n",
       "      <td>5205.27</td>\n",
       "      <td>10/10/2003 0:00</td>\n",
       "      <td>Shipped</td>\n",
       "      <td>4</td>\n",
       "      <td>10</td>\n",
       "      <td>2003</td>\n",
       "      <td>...</td>\n",
       "      <td>7734 Strong St.</td>\n",
       "      <td>NaN</td>\n",
       "      <td>San Francisco</td>\n",
       "      <td>CA</td>\n",
       "      <td>NaN</td>\n",
       "      <td>USA</td>\n",
       "      <td>NaN</td>\n",
       "      <td>Brown</td>\n",
       "      <td>Julie</td>\n",
       "      <td>Medium</td>\n",
       "    </tr>\n",
       "  </tbody>\n",
       "</table>\n",
       "<p>5 rows × 25 columns</p>\n",
       "</div>"
      ],
      "text/plain": [
       "   ORDERNUMBER  QUANTITYORDERED  PRICEEACH  ORDERLINENUMBER    SALES  \\\n",
       "0        10107               30      95.70                2  2871.00   \n",
       "1        10121               34      81.35                5  2765.90   \n",
       "2        10134               41      94.74                2  3884.34   \n",
       "3        10145               45      83.26                6  3746.70   \n",
       "4        10159               49     100.00               14  5205.27   \n",
       "\n",
       "         ORDERDATE   STATUS  QTR_ID  MONTH_ID  YEAR_ID  ...  \\\n",
       "0   2/24/2003 0:00  Shipped       1         2     2003  ...   \n",
       "1    5/7/2003 0:00  Shipped       2         5     2003  ...   \n",
       "2    7/1/2003 0:00  Shipped       3         7     2003  ...   \n",
       "3   8/25/2003 0:00  Shipped       3         8     2003  ...   \n",
       "4  10/10/2003 0:00  Shipped       4        10     2003  ...   \n",
       "\n",
       "                    ADDRESSLINE1  ADDRESSLINE2           CITY STATE  \\\n",
       "0        897 Long Airport Avenue           NaN            NYC    NY   \n",
       "1             59 rue de l'Abbaye           NaN          Reims   NaN   \n",
       "2  27 rue du Colonel Pierre Avia           NaN          Paris   NaN   \n",
       "3             78934 Hillside Dr.           NaN       Pasadena    CA   \n",
       "4                7734 Strong St.           NaN  San Francisco    CA   \n",
       "\n",
       "  POSTALCODE COUNTRY TERRITORY CONTACTLASTNAME CONTACTFIRSTNAME DEALSIZE  \n",
       "0      10022     USA       NaN              Yu             Kwai    Small  \n",
       "1      51100  France      EMEA         Henriot             Paul    Small  \n",
       "2      75508  France      EMEA        Da Cunha           Daniel   Medium  \n",
       "3      90003     USA       NaN           Young            Julie   Medium  \n",
       "4        NaN     USA       NaN           Brown            Julie   Medium  \n",
       "\n",
       "[5 rows x 25 columns]"
      ]
     },
     "execution_count": 5,
     "metadata": {},
     "output_type": "execute_result"
    }
   ],
   "source": [
    "df.head()"
   ]
  },
  {
   "cell_type": "markdown",
   "id": "207558e7",
   "metadata": {},
   "source": [
    "## Querying Data\n",
    "\n",
    "We can query via Pandas Syntax:"
   ]
  },
  {
   "cell_type": "code",
   "execution_count": 38,
   "id": "e5d65e9f",
   "metadata": {},
   "outputs": [
    {
     "data": {
      "text/plain": [
       "QTR_ID\n",
       "1    2350817.73\n",
       "2    2048120.30\n",
       "3    1758910.81\n",
       "4    3874780.01\n",
       "Name: SALES, dtype: float64"
      ]
     },
     "execution_count": 38,
     "metadata": {},
     "output_type": "execute_result"
    }
   ],
   "source": [
    "# Example Pandas Query for Sum of Sales by Quarter \n",
    "df.groupby(\"QTR_ID\").sum()['SALES']\n",
    "# query without using openai"
   ]
  },
  {
   "cell_type": "markdown",
   "id": "3c5cbb58",
   "metadata": {},
   "source": [
    "\n",
    "Or we can query via SQL Syntax, let's set-up a temporary in memory (RAM) database, basically export this CSV-->Pandas DF--> SQL DB"
   ]
  },
  {
   "cell_type": "markdown",
   "id": "770bc122",
   "metadata": {},
   "source": [
    "## SQL Database Set-up"
   ]
  },
  {
   "cell_type": "code",
   "execution_count": 39,
   "id": "4d823bc7",
   "metadata": {},
   "outputs": [],
   "source": [
    "from sqlalchemy import create_engine\n",
    "from sqlalchemy import text\n",
    "# connect to different database engine"
   ]
  },
  {
   "cell_type": "code",
   "execution_count": 40,
   "id": "1a3e8cf6",
   "metadata": {},
   "outputs": [],
   "source": [
    "# setup a temp database in ram"
   ]
  },
  {
   "cell_type": "code",
   "execution_count": 41,
   "id": "b56675da",
   "metadata": {},
   "outputs": [],
   "source": [
    "temp_db = create_engine('sqlite:///:memory:', echo=True)"
   ]
  },
  {
   "cell_type": "markdown",
   "id": "084ab8ab",
   "metadata": {},
   "source": [
    "Push our entire DataFrame to a table called Sales:"
   ]
  },
  {
   "cell_type": "code",
   "execution_count": 42,
   "id": "5f0963b2",
   "metadata": {
    "scrolled": false
   },
   "outputs": [
    {
     "name": "stdout",
     "output_type": "stream",
     "text": [
      "2024-05-31 13:39:51,800 INFO sqlalchemy.engine.Engine PRAGMA main.table_info(\"Sales\")\n",
      "2024-05-31 13:39:51,801 INFO sqlalchemy.engine.Engine [raw sql] ()\n",
      "2024-05-31 13:39:51,803 INFO sqlalchemy.engine.Engine PRAGMA temp.table_info(\"Sales\")\n",
      "2024-05-31 13:39:51,804 INFO sqlalchemy.engine.Engine [raw sql] ()\n",
      "2024-05-31 13:39:51,808 INFO sqlalchemy.engine.Engine BEGIN (implicit)\n",
      "2024-05-31 13:39:51,811 INFO sqlalchemy.engine.Engine \n",
      "CREATE TABLE \"Sales\" (\n",
      "\t\"index\" BIGINT, \n",
      "\t\"ORDERNUMBER\" BIGINT, \n",
      "\t\"QUANTITYORDERED\" BIGINT, \n",
      "\t\"PRICEEACH\" FLOAT, \n",
      "\t\"ORDERLINENUMBER\" BIGINT, \n",
      "\t\"SALES\" FLOAT, \n",
      "\t\"ORDERDATE\" TEXT, \n",
      "\t\"STATUS\" TEXT, \n",
      "\t\"QTR_ID\" BIGINT, \n",
      "\t\"MONTH_ID\" BIGINT, \n",
      "\t\"YEAR_ID\" BIGINT, \n",
      "\t\"PRODUCTLINE\" TEXT, \n",
      "\t\"MSRP\" BIGINT, \n",
      "\t\"PRODUCTCODE\" TEXT, \n",
      "\t\"CUSTOMERNAME\" TEXT, \n",
      "\t\"PHONE\" TEXT, \n",
      "\t\"ADDRESSLINE1\" TEXT, \n",
      "\t\"ADDRESSLINE2\" TEXT, \n",
      "\t\"CITY\" TEXT, \n",
      "\t\"STATE\" TEXT, \n",
      "\t\"POSTALCODE\" TEXT, \n",
      "\t\"COUNTRY\" TEXT, \n",
      "\t\"TERRITORY\" TEXT, \n",
      "\t\"CONTACTLASTNAME\" TEXT, \n",
      "\t\"CONTACTFIRSTNAME\" TEXT, \n",
      "\t\"DEALSIZE\" TEXT\n",
      ")\n",
      "\n",
      "\n",
      "2024-05-31 13:39:51,812 INFO sqlalchemy.engine.Engine [no key 0.00098s] ()\n",
      "2024-05-31 13:39:51,814 INFO sqlalchemy.engine.Engine CREATE INDEX \"ix_Sales_index\" ON \"Sales\" (\"index\")\n",
      "2024-05-31 13:39:51,815 INFO sqlalchemy.engine.Engine [no key 0.00103s] ()\n",
      "2024-05-31 13:39:51,816 INFO sqlalchemy.engine.Engine COMMIT\n",
      "2024-05-31 13:39:51,827 INFO sqlalchemy.engine.Engine BEGIN (implicit)\n",
      "2024-05-31 13:39:51,969 INFO sqlalchemy.engine.Engine INSERT INTO \"Sales\" (\"index\", \"ORDERNUMBER\", \"QUANTITYORDERED\", \"PRICEEACH\", \"ORDERLINENUMBER\", \"SALES\", \"ORDERDATE\", \"STATUS\", \"QTR_ID\", \"MONTH_ID\", \"YEAR_ID\", \"PRODUCTLINE\", \"MSRP\", \"PRODUCTCODE\", \"CUSTOMERNAME\", \"PHONE\", \"ADDRESSLINE1\", \"ADDRESSLINE2\", \"CITY\", \"STATE\", \"POSTALCODE\", \"COUNTRY\", \"TERRITORY\", \"CONTACTLASTNAME\", \"CONTACTFIRSTNAME\", \"DEALSIZE\") VALUES (?, ?, ?, ?, ?, ?, ?, ?, ?, ?, ?, ?, ?, ?, ?, ?, ?, ?, ?, ?, ?, ?, ?, ?, ?, ?)\n",
      "2024-05-31 13:39:51,970 INFO sqlalchemy.engine.Engine [generated in 0.12777s] ((0, 10107, 30, 95.7, 2, 2871.0, '2/24/2003 0:00', 'Shipped', 1, 2, 2003, 'Motorcycles', 95, 'S10_1678', 'Land of Toys Inc.', '2125557818', '897 Long Airport Avenue', None, 'NYC', 'NY', '10022', 'USA', None, 'Yu', 'Kwai', 'Small'), (1, 10121, 34, 81.35, 5, 2765.9, '5/7/2003 0:00', 'Shipped', 2, 5, 2003, 'Motorcycles', 95, 'S10_1678', 'Reims Collectables', '26.47.1555', \"59 rue de l'Abbaye\", None, 'Reims', None, '51100', 'France', 'EMEA', 'Henriot', 'Paul', 'Small'), (2, 10134, 41, 94.74, 2, 3884.34, '7/1/2003 0:00', 'Shipped', 3, 7, 2003, 'Motorcycles', 95, 'S10_1678', 'Lyon Souveniers', '+33 1 46 62 7555', '27 rue du Colonel Pierre Avia', None, 'Paris', None, '75508', 'France', 'EMEA', 'Da Cunha', 'Daniel', 'Medium'), (3, 10145, 45, 83.26, 6, 3746.7, '8/25/2003 0:00', 'Shipped', 3, 8, 2003, 'Motorcycles', 95, 'S10_1678', 'Toys4GrownUps.com', '6265557265', '78934 Hillside Dr.', None, 'Pasadena', 'CA', '90003', 'USA', None, 'Young', 'Julie', 'Medium'), (4, 10159, 49, 100.0, 14, 5205.27, '10/10/2003 0:00', 'Shipped', 4, 10, 2003, 'Motorcycles', 95, 'S10_1678', 'Corporate Gift Ideas Co.', '6505551386', '7734 Strong St.', None, 'San Francisco', 'CA', None, 'USA', None, 'Brown', 'Julie', 'Medium'), (5, 10168, 36, 96.66, 1, 3479.76, '10/28/2003 0:00', 'Shipped', 4, 10, 2003, 'Motorcycles', 95, 'S10_1678', 'Technics Stores Inc.', '6505556809', '9408 Furth Circle', None, 'Burlingame', 'CA', '94217', 'USA', None, 'Hirano', 'Juri', 'Medium'), (6, 10180, 29, 86.13, 9, 2497.77, '11/11/2003 0:00', 'Shipped', 4, 11, 2003, 'Motorcycles', 95, 'S10_1678', 'Daedalus Designs Imports', '20.16.1555', '184, chausse de Tournai', None, 'Lille', None, '59000', 'France', 'EMEA', 'Rance', 'Martine', 'Small'), (7, 10188, 48, 100.0, 1, 5512.32, '11/18/2003 0:00', 'Shipped', 4, 11, 2003, 'Motorcycles', 95, 'S10_1678', 'Herkku Gifts', '+47 2267 3215', 'Drammen 121, PR 744 Sentrum', None, 'Bergen', None, 'N 5804', 'Norway', 'EMEA', 'Oeztan', 'Veysel', 'Medium')  ... displaying 10 of 2823 total bound parameter sets ...  (2821, 10397, 34, 62.24, 1, 2116.16, '3/28/2005 0:00', 'Shipped', 1, 3, 2005, 'Ships', 54, 'S72_3212', 'Alpha Cognac', '61.77.6555', '1 rue Alsace-Lorraine', None, 'Toulouse', None, '31000', 'France', 'EMEA', 'Roulet', 'Annette', 'Small'), (2822, 10414, 47, 65.52, 9, 3079.44, '5/6/2005 0:00', 'On Hold', 2, 5, 2005, 'Ships', 54, 'S72_3212', 'Gifts4AllAges.com', '6175559555', '8616 Spinnaker Dr.', None, 'Boston', 'MA', '51003', 'USA', None, 'Yoshido', 'Juri', 'Medium'))\n",
      "2024-05-31 13:39:52,000 INFO sqlalchemy.engine.Engine COMMIT\n",
      "2024-05-31 13:39:52,002 INFO sqlalchemy.engine.Engine SELECT name FROM sqlite_master WHERE type='table' ORDER BY name\n",
      "2024-05-31 13:39:52,004 INFO sqlalchemy.engine.Engine [raw sql] ()\n"
     ]
    }
   ],
   "source": [
    "data = df.to_sql(name='Sales',con=temp_db)\n",
    "# push pandas dataframe into temp database\n",
    "# name and con(connection to what db)"
   ]
  },
  {
   "cell_type": "markdown",
   "id": "6be4b38d",
   "metadata": {},
   "source": [
    "\n",
    "### Connecting to SQL Database:"
   ]
  },
  {
   "cell_type": "markdown",
   "id": "b0666d7e",
   "metadata": {},
   "source": [
    "Using SQL Alchemy we can establish a connection to this temporary database and query it for the results:"
   ]
  },
  {
   "cell_type": "code",
   "execution_count": 43,
   "id": "a0c2c22a",
   "metadata": {
    "scrolled": false
   },
   "outputs": [
    {
     "name": "stdout",
     "output_type": "stream",
     "text": [
      "2024-05-31 13:39:56,315 INFO sqlalchemy.engine.Engine Select ORDERNUMBER, SALES from Sales ORDER BY SALES DESC LIMIT 1\n",
      "2024-05-31 13:39:56,317 INFO sqlalchemy.engine.Engine [generated in 0.00198s] ()\n"
     ]
    }
   ],
   "source": [
    "with temp_db.connect() as conn:\n",
    "    result = conn.execute(text(\"Select ORDERNUMBER, SALES from Sales ORDER BY SALES DESC LIMIT 1\"))\n",
    "# make the connection\n",
    "# run code\n",
    "# text call to pass thr sql query and execute the sql query to the db\n",
    "# close connection"
   ]
  },
  {
   "cell_type": "code",
   "execution_count": 44,
   "id": "a0a98401",
   "metadata": {
    "scrolled": false
   },
   "outputs": [
    {
     "data": {
      "text/plain": [
       "[(10407, 14082.8)]"
      ]
     },
     "execution_count": 44,
     "metadata": {},
     "output_type": "execute_result"
    }
   ],
   "source": [
    "result.all()"
   ]
  },
  {
   "cell_type": "markdown",
   "id": "500f0f6f",
   "metadata": {},
   "source": [
    "## OpenAI API\n",
    "\n",
    "Set your OpenAI API Key as an environment variable. Having it as an environment variable let's the key live on the computer, but not actually be present in the code.\n",
    "\n",
    "### Set-up Open AI API Key"
   ]
  },
  {
   "cell_type": "code",
   "execution_count": 45,
   "id": "ca0fe9c8",
   "metadata": {},
   "outputs": [],
   "source": [
    "import openai"
   ]
  },
  {
   "cell_type": "markdown",
   "id": "a8550135",
   "metadata": {},
   "source": [
    "### Inform GPT about the SQL Table Structure\n",
    "\n",
    "We need to tell GPT what the table structure looks like before it can understand the schema enough to create a SQL query. Let's create a function to generate the first part of the example text below (which we can then attach a user natural language query to!)\n",
    "\n",
    "\n",
    "**Below is an example input to GPT, we tell it the table structure and the NLP question, then at the end we tell it to \"SELECT\"...**\n",
    "\n",
    "**Thus GPT must finish with the rest of the most reasonable SQL query.**"
   ]
  },
  {
   "cell_type": "code",
   "execution_count": 46,
   "id": "8e80ae1a",
   "metadata": {},
   "outputs": [],
   "source": [
    "### Postgres SQL tables, with their properties:\n",
    "#\n",
    "# Employee(id, name, department_id)\n",
    "# Department(id, name, address)\n",
    "# Salary_Payments(id, employee_id, amount, date)\n",
    "#\n",
    "### A query to list the names of the departments which employed more than 10 employees in the last 3 months\n",
    "# SELECT\n"
   ]
  },
  {
   "cell_type": "code",
   "execution_count": 47,
   "id": "1677ae7a",
   "metadata": {},
   "outputs": [],
   "source": [
    "def create_table_definition_prompt(df):\n",
    "    \"\"\"\n",
    "    This function returns a prompt that informs GPT that we want to work with SQL Tables and what the overall goal is\n",
    "    \"\"\"\n",
    "\n",
    "    prompt = '''Given the following sqlite SQL definition, write queries based on the request \n",
    "                \\n### sqlite SQL table, with its properties:\n",
    "#\n",
    "# Sales({})\n",
    "#\n",
    "'''.format(\",\".join(str(x) for x in df.columns))\n",
    "    \n",
    "    return prompt"
   ]
  },
  {
   "cell_type": "code",
   "execution_count": 48,
   "id": "ead0d49d",
   "metadata": {},
   "outputs": [
    {
     "name": "stdout",
     "output_type": "stream",
     "text": [
      "Given the following sqlite SQL definition, write queries based on the request \n",
      "                \n",
      "### sqlite SQL table, with its properties:\n",
      "#\n",
      "# Sales(ORDERNUMBER,QUANTITYORDERED,PRICEEACH,ORDERLINENUMBER,SALES,ORDERDATE,STATUS,QTR_ID,MONTH_ID,YEAR_ID,PRODUCTLINE,MSRP,PRODUCTCODE,CUSTOMERNAME,PHONE,ADDRESSLINE1,ADDRESSLINE2,CITY,STATE,POSTALCODE,COUNTRY,TERRITORY,CONTACTLASTNAME,CONTACTFIRSTNAME,DEALSIZE)\n",
      "#\n",
      "\n"
     ]
    }
   ],
   "source": [
    "print(create_table_definition_prompt(df))"
   ]
  },
  {
   "cell_type": "markdown",
   "id": "9efc01b2",
   "metadata": {},
   "source": [
    "### Get Natural Language Request:\n",
    "\n",
    "Now let's create a function that grabs the natural language information request. Users can input any instructions they want to do with this dataset"
   ]
  },
  {
   "cell_type": "code",
   "execution_count": 49,
   "id": "b3e1e26c",
   "metadata": {},
   "outputs": [],
   "source": [
    "def prompt_input():\n",
    "    nlp_text = input(\"Enter information you want to obtain: \")\n",
    "    return nlp_text"
   ]
  },
  {
   "cell_type": "code",
   "execution_count": 51,
   "id": "b7214c65",
   "metadata": {},
   "outputs": [
    {
     "name": "stdout",
     "output_type": "stream",
     "text": [
      "Enter information you want to obtain: find the average of sales per location\n"
     ]
    }
   ],
   "source": [
    "nlp_text = prompt_input()"
   ]
  },
  {
   "cell_type": "code",
   "execution_count": 52,
   "id": "39a37984",
   "metadata": {},
   "outputs": [
    {
     "data": {
      "text/plain": [
       "'find the average of sales per location'"
      ]
     },
     "execution_count": 52,
     "metadata": {},
     "output_type": "execute_result"
    }
   ],
   "source": [
    "nlp_text"
   ]
  },
  {
   "cell_type": "markdown",
   "id": "8204c013",
   "metadata": {},
   "source": [
    "Now we call the model:\n",
    "\n",
    "### OpenAI API Call"
   ]
  },
  {
   "cell_type": "code",
   "execution_count": 53,
   "id": "be5dbd92",
   "metadata": {},
   "outputs": [],
   "source": [
    "#pip install openai==0.28\n",
    "# degrade to gpt3.5 model for performance"
   ]
  },
  {
   "cell_type": "code",
   "execution_count": 72,
   "id": "504cf124",
   "metadata": {},
   "outputs": [
    {
     "name": "stdout",
     "output_type": "stream",
     "text": [
      "{\n",
      "  \"id\": \"chatcmpl-9V56zjVsfWn4k7j0fSzHvJQUqGpks\",\n",
      "  \"object\": \"chat.completion\",\n",
      "  \"created\": 1717194845,\n",
      "  \"model\": \"gpt-3.5-turbo-0125\",\n",
      "  \"choices\": [\n",
      "    {\n",
      "      \"index\": 0,\n",
      "      \"message\": {\n",
      "        \"role\": \"assistant\",\n",
      "        \"content\": \"```sql\\nSELECT CITY, STATE, COUNTRY, TERRITORY, AVG(SALES) AS AVERAGE_SALES\\nFROM Sales\\nGROUP BY CITY, STATE, COUNTRY, TERRITORY;\\n```\"\n",
      "      },\n",
      "      \"logprobs\": null,\n",
      "      \"finish_reason\": \"stop\"\n",
      "    }\n",
      "  ],\n",
      "  \"usage\": {\n",
      "    \"prompt_tokens\": 135,\n",
      "    \"completion_tokens\": 44,\n",
      "    \"total_tokens\": 179\n",
      "  },\n",
      "  \"system_fingerprint\": null\n",
      "}\n"
     ]
    }
   ],
   "source": [
    "# Set your OpenAI API key\n",
    "api_key = \n",
    "\n",
    "# Configure the OpenAI client with your API key\n",
    "openai.api_key = api_key\n",
    "\n",
    "# Assuming create_table_definition_prompt and df are defined earlier in your script\n",
    "# Also assuming nlp_text is defined earlier in your script\n",
    "\n",
    "response = openai.ChatCompletion.create(\n",
    "  model=\"gpt-3.5-turbo\",\n",
    "  messages=[\n",
    "    {\"role\": \"system\", \"content\": create_table_definition_prompt(df)},\n",
    "    {\"role\": \"user\", \"content\": f\"A query to answer: {nlp_text}\"},\n",
    "  ]\n",
    ")\n",
    "\n",
    "print(response)"
   ]
  },
  {
   "cell_type": "code",
   "execution_count": 73,
   "id": "3da1e3d7",
   "metadata": {},
   "outputs": [
    {
     "data": {
      "text/plain": [
       "'```sql\\nSELECT CITY, STATE, COUNTRY, TERRITORY, AVG(SALES) AS AVERAGE_SALES\\nFROM Sales\\nGROUP BY CITY, STATE, COUNTRY, TERRITORY;\\n```'"
      ]
     },
     "execution_count": 73,
     "metadata": {},
     "output_type": "execute_result"
    }
   ],
   "source": [
    "response['choices'][0]['message']['content']"
   ]
  },
  {
   "cell_type": "markdown",
   "id": "5e912693",
   "metadata": {},
   "source": [
    "Now let's build a function to parse the section of the response we want: "
   ]
  },
  {
   "cell_type": "code",
   "execution_count": 74,
   "id": "326918b7",
   "metadata": {},
   "outputs": [
    {
     "name": "stdout",
     "output_type": "stream",
     "text": [
      "{\n",
      "  \"id\": \"chatcmpl-9V56zjVsfWn4k7j0fSzHvJQUqGpks\",\n",
      "  \"object\": \"chat.completion\",\n",
      "  \"created\": 1717194845,\n",
      "  \"model\": \"gpt-3.5-turbo-0125\",\n",
      "  \"choices\": [\n",
      "    {\n",
      "      \"index\": 0,\n",
      "      \"message\": {\n",
      "        \"role\": \"assistant\",\n",
      "        \"content\": \"```sql\\nSELECT CITY, STATE, COUNTRY, TERRITORY, AVG(SALES) AS AVERAGE_SALES\\nFROM Sales\\nGROUP BY CITY, STATE, COUNTRY, TERRITORY;\\n```\"\n",
      "      },\n",
      "      \"logprobs\": null,\n",
      "      \"finish_reason\": \"stop\"\n",
      "    }\n",
      "  ],\n",
      "  \"usage\": {\n",
      "    \"prompt_tokens\": 135,\n",
      "    \"completion_tokens\": 44,\n",
      "    \"total_tokens\": 179\n",
      "  },\n",
      "  \"system_fingerprint\": null\n",
      "}\n"
     ]
    }
   ],
   "source": [
    "print(response)"
   ]
  },
  {
   "cell_type": "code",
   "execution_count": 75,
   "id": "c4701710",
   "metadata": {},
   "outputs": [],
   "source": [
    "def handle_response(response):\n",
    "    return response.choices[0].message.content"
   ]
  },
  {
   "cell_type": "code",
   "execution_count": 76,
   "id": "c30dedfc",
   "metadata": {},
   "outputs": [
    {
     "name": "stdout",
     "output_type": "stream",
     "text": [
      "<class 'str'>\n",
      "```sql\n",
      "SELECT CITY, STATE, COUNTRY, TERRITORY, AVG(SALES) AS AVERAGE_SALES\n",
      "FROM Sales\n",
      "GROUP BY CITY, STATE, COUNTRY, TERRITORY;\n",
      "```\n",
      "\n",
      "SELECT CITY, STATE, COUNTRY, TERRITORY, AVG(SALES) AS AVERAGE_SALES\n",
      "FROM Sales\n",
      "GROUP BY CITY, STATE, COUNTRY, TERRITORY\n"
     ]
    }
   ],
   "source": [
    "print(type(handle_response(response)))\n",
    "print(handle_response(response))\n",
    "#we need to cut the unecessary part of the returning string\n",
    "\n",
    "returntype = handle_response(response)[6:len(handle_response(response))-5]\n",
    "print(returntype)\n"
   ]
  },
  {
   "cell_type": "markdown",
   "id": "c221006f",
   "metadata": {},
   "source": [
    "Pass that into our Database:"
   ]
  },
  {
   "cell_type": "code",
   "execution_count": 77,
   "id": "08dcf62a",
   "metadata": {
    "scrolled": false
   },
   "outputs": [
    {
     "name": "stdout",
     "output_type": "stream",
     "text": [
      "2024-05-31 15:34:51,317 INFO sqlalchemy.engine.Engine \n",
      "SELECT CITY, STATE, COUNTRY, TERRITORY, AVG(SALES) AS AVERAGE_SALES\n",
      "FROM Sales\n",
      "GROUP BY CITY, STATE, COUNTRY, TERRITORY\n",
      "2024-05-31 15:34:51,319 INFO sqlalchemy.engine.Engine [generated in 0.00266s] ()\n"
     ]
    }
   ],
   "source": [
    "with temp_db.connect() as conn:\n",
    "    result = conn.execute(text(returntype))"
   ]
  },
  {
   "cell_type": "code",
   "execution_count": 63,
   "id": "9318b9cc",
   "metadata": {},
   "outputs": [
    {
     "data": {
      "text/plain": [
       "[('Aaarhus', None, 'Denmark', 'EMEA', 3725.7611111111105),\n",
       " ('Allentown', 'PA', 'USA', None, 3939.9400000000005),\n",
       " ('Barcelona', None, 'Spain', 'EMEA', 3409.2113043478266),\n",
       " ('Bergamo', None, 'Italy', 'EMEA', 2874.077500000001),\n",
       " ('Bergen', None, 'Norway', 'EMEA', 3849.6648275862067),\n",
       " ('Boras', None, 'Sweden', 'EMEA', 3533.1402631578953),\n",
       " ('Boston', 'MA', 'USA', None, 3501.5831818181814),\n",
       " ('Brickhaven', 'MA', 'USA', None, 3516.068085106384),\n",
       " ('Bridgewater', 'CT', 'USA', None, 4075.7916000000005),\n",
       " ('Brisbane', 'CA', 'USA', None, 3347.9006666666673),\n",
       " ('Bruxelles', None, 'Belgium', 'EMEA', 2998.9008000000003),\n",
       " ('Burbank', 'CA', 'USA', None, 3544.972307692307),\n",
       " ('Burlingame', 'CA', 'USA', None, 3552.443235294118),\n",
       " ('Cambridge', 'MA', 'USA', None, 3664.315789473683),\n",
       " ('Charleroi', None, 'Belgium', 'EMEA', 4180.0125),\n",
       " ('Chatswood', 'NSW', 'Australia', 'APAC', 3295.021304347827),\n",
       " ('Cowes', 'Isle of Wight', 'UK', 'EMEA', 3009.2630769230764),\n",
       " ('Dublin', None, 'Ireland', 'EMEA', 3609.776875),\n",
       " ('Espoo', None, 'Finland', 'EMEA', 3798.704999999999),\n",
       " ('Frankfurt', None, 'Germany', 'EMEA', 3871.4359090909084),\n",
       " ('Gensve', None, 'Switzerland', 'EMEA', 3797.211612903225),\n",
       " ('Glen Waverly', 'Victoria', 'Australia', 'APAC', 2808.3243478260874),\n",
       " ('Glendale', 'CA', 'USA', None, 3043.1166666666663),\n",
       " ('Glendale', 'CT', 'USA', None, 3015.4957894736845),\n",
       " ('Graz', None, 'Austria', 'EMEA', 3484.2599999999998),\n",
       " ('Helsinki', None, 'Finland', 'EMEA', 3708.3459999999986),\n",
       " ('Kobenhavn', None, 'Denmark', 'EMEA', 4028.9333333333334),\n",
       " ('Koln', None, 'Germany', 'EMEA', 3857.9453846153847),\n",
       " ('Las Vegas', 'NV', 'USA', None, 2853.48551724138),\n",
       " ('Lille', None, 'France', 'EMEA', 3452.6205),\n",
       " ('Liverpool', None, 'UK', 'EMEA', 4069.250689655172),\n",
       " ('London', None, 'UK', 'EMEA', 3284.83),\n",
       " ('Los Angeles', 'CA', 'USA', None, 3432.032857142857),\n",
       " ('Lule', None, 'Sweden', 'EMEA', 3987.0989473684212),\n",
       " ('Lyon', None, 'France', 'EMEA', 3484.7378048780497),\n",
       " ('Madrid', None, 'Spain', 'EMEA', 3561.024473684211),\n",
       " ('Makati City', None, 'Philippines', 'Japan', 3615.9896153846153),\n",
       " ('Manchester', None, 'UK', 'EMEA', 3094.270784313725),\n",
       " ('Marseille', None, 'France', 'EMEA', 2997.4456),\n",
       " ('Melbourne', 'Victoria', 'Australia', 'APAC', 3654.4619999999995),\n",
       " ('Minato-ku', 'Tokyo', 'Japan', 'Japan', 3767.585624999999),\n",
       " ('Montreal', 'Quebec', 'Canada', None, 3372.9449999999997),\n",
       " ('Munich', None, 'Germany', 'EMEA', 2499.565714285714),\n",
       " ('NYC', 'NY', 'USA', None, 3689.3932236842093),\n",
       " ('Nantes', None, 'France', 'EMEA', 3405.0809999999997),\n",
       " ('Nashua', 'NH', 'USA', None, 3873.09705882353),\n",
       " ('New Bedford', 'MA', 'USA', None, 3407.7845901639344),\n",
       " ('New Haven', 'CT', 'USA', None, 4674.827647058824),\n",
       " ('Newark', 'NJ', 'USA', None, 3963.247142857143),\n",
       " ('North Sydney', 'NSW', 'Australia', 'APAC', 3347.7419565217397),\n",
       " ('Osaka', 'Osaka', 'Japan', 'Japan', 3380.2535000000003),\n",
       " ('Oslo', None, 'Norway', 'EMEA', 3301.009583333333),\n",
       " ('Oulu', None, 'Finland', 'EMEA', 3261.574375),\n",
       " ('Paris', None, 'France', 'EMEA', 3842.066857142857),\n",
       " ('Pasadena', 'CA', 'USA', None, 3485.398666666666),\n",
       " ('Philadelphia', 'PA', 'USA', None, 3436.1165909090905),\n",
       " ('Reggio Emilia', None, 'Italy', 'EMEA', 3656.4443589743596),\n",
       " ('Reims', None, 'France', 'EMEA', 3293.7302439024393),\n",
       " ('Salzburg', None, 'Austria', 'EMEA', 3744.9657500000003),\n",
       " ('San Diego', 'CA', 'USA', None, 3499.5691999999995),\n",
       " ('San Francisco', 'CA', 'USA', None, 3618.6883870967745),\n",
       " ('San Jose', 'CA', 'USA', None, 4000.256749999999),\n",
       " ('San Rafael', 'CA', 'USA', None, 3638.1003333333338),\n",
       " ('Sevilla', None, 'Spain', 'EMEA', 3648.2413333333334),\n",
       " ('Singapore', None, 'Singapore', 'APAC', 3208.298055555556),\n",
       " ('Singapore', None, 'Singapore', 'Japan', 4023.01581395349),\n",
       " ('South Brisbane', 'Queensland', 'Australia', 'APAC', 3964.6079999999993),\n",
       " ('Stavern', None, 'Norway', 'EMEA', 3643.7246875),\n",
       " ('Strasbourg', None, 'France', 'EMEA', 4233.604210526316),\n",
       " ('Torino', None, 'Italy', 'EMEA', 3619.8946153846164),\n",
       " ('Toulouse', None, 'France', 'EMEA', 3524.422),\n",
       " ('Tsawassen', 'BC', 'Canada', None, 2870.5711538461537),\n",
       " ('Vancouver', 'BC', 'Canada', None, 3419.950909090909),\n",
       " ('Versailles', None, 'France', 'EMEA', 3601.906666666667),\n",
       " ('White Plains', 'NY', 'USA', None, 3290.614999999999)]"
      ]
     },
     "execution_count": 63,
     "metadata": {},
     "output_type": "execute_result"
    }
   ],
   "source": [
    "result.all()"
   ]
  },
  {
   "cell_type": "markdown",
   "id": "f6c6e854",
   "metadata": {},
   "source": []
  }
 ],
 "metadata": {
  "kernelspec": {
   "display_name": "Python 3 (ipykernel)",
   "language": "python",
   "name": "python3"
  },
  "language_info": {
   "codemirror_mode": {
    "name": "ipython",
    "version": 3
   },
   "file_extension": ".py",
   "mimetype": "text/x-python",
   "name": "python",
   "nbconvert_exporter": "python",
   "pygments_lexer": "ipython3",
   "version": "3.9.7"
  },
  "vscode": {
   "interpreter": {
    "hash": "5455cba45dca8dec86c35d949ecf676492206ef67d9fdf2560e140a882ab099f"
   }
  }
 },
 "nbformat": 4,
 "nbformat_minor": 5
}
